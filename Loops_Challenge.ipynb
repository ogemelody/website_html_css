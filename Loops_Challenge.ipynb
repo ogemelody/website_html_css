{
  "nbformat": 4,
  "nbformat_minor": 0,
  "metadata": {
    "colab": {
      "provenance": [],
      "include_colab_link": true
    },
    "kernelspec": {
      "name": "python3",
      "display_name": "Python 3"
    },
    "language_info": {
      "name": "python"
    }
  },
  "cells": [
    {
      "cell_type": "markdown",
      "metadata": {
        "id": "view-in-github",
        "colab_type": "text"
      },
      "source": [
        "<a href=\"https://colab.research.google.com/github/ogemelody/website_html_css/blob/master/Loops_Challenge.ipynb\" target=\"_parent\"><img src=\"https://colab.research.google.com/assets/colab-badge.svg\" alt=\"Open In Colab\"/></a>"
      ]
    },
    {
      "cell_type": "markdown",
      "source": [
        "### Announcing Animals\n",
        "\n",
        "Task:\n",
        "Write a program that iterates over this list of animals: [\"Lion\", \"Tiger\", \"Elephant\", \"Giraffe\"]. For each animal, print:\n",
        "\"I see a [animal]!\"\n",
        "\n",
        "Expected Output:\n",
        "\n",
        "```\n",
        "I see a Lion!\n",
        "I see a Tiger!\n",
        "I see an Elephant!\n",
        "I see a Giraffe!\n",
        "\n",
        "```\n"
      ],
      "metadata": {
        "id": "eyZE1gGj6xO0"
      }
    },
    {
      "cell_type": "code",
      "execution_count": 1,
      "metadata": {
        "id": "xscs3FSY6U37",
        "colab": {
          "base_uri": "https://localhost:8080/"
        },
        "outputId": "226b6d90-3268-41ab-d77a-415d9dae856e"
      },
      "outputs": [
        {
          "output_type": "stream",
          "name": "stdout",
          "text": [
            "I see a Lion!\n",
            "I see a Tiger!\n",
            "I see a Elephant!\n",
            "I see a Giraffe!\n"
          ]
        }
      ],
      "source": [
        "animals = [\"Lion\", \"Tiger\", \"Elephant\", \"Giraffe\"]\n",
        "for animal in animals:\n",
        "  print(f\"I see a {animal}!\")"
      ]
    },
    {
      "cell_type": "markdown",
      "source": [
        "### Counting Points\n",
        "Task:\n",
        "You’re keeping track of points in a game. Use this list of scores: [10, 20, 15, 30, 25]. Write a program to calculate and print the total score:\n",
        "\"Total score: [total points]\"\n",
        "\n",
        "Expected Output:\n",
        "```\n",
        "Total score: 100\n",
        "\n",
        "```\n"
      ],
      "metadata": {
        "id": "XHJ0VYBq7AzR"
      }
    },
    {
      "cell_type": "code",
      "source": [
        "scores = [10, 20, 15, 30, 25]\n",
        "total_amount = 0\n",
        "for score in scores:\n",
        "\n",
        "  total_amount += score\n",
        "  print(f\"Total score: {total_amount}\")\n",
        ""
      ],
      "metadata": {
        "id": "cDctgSlj7N5p",
        "colab": {
          "base_uri": "https://localhost:8080/"
        },
        "outputId": "1ead2b6e-b31f-4e68-cca5-131977f123b5"
      },
      "execution_count": 8,
      "outputs": [
        {
          "output_type": "stream",
          "name": "stdout",
          "text": [
            "Total score: 10\n",
            "Total score: 30\n",
            "Total score: 45\n",
            "Total score: 75\n",
            "Total score: 100\n"
          ]
        }
      ]
    },
    {
      "cell_type": "markdown",
      "source": [
        "### Combining Names and Scores\n",
        "\n",
        "Task:\n",
        "You have the following lists:\n",
        "```\n",
        "players = [\"Alice\", \"Bob\", \"Charlie\", \"Dana\"]\n",
        "scores = [50, 75, 40, 90]\n",
        "```\n",
        "Write a program that prints the player names along with their scores in this format:\n",
        "\"[Player] scored [score] points!\"\n",
        "\n",
        "Expected Output:\n",
        "```\n",
        "Alice scored 50 points!\n",
        "Bob scored 75 points!\n",
        "Charlie scored 40 points!\n",
        "Dana scored 90 points!\n",
        "```\n"
      ],
      "metadata": {
        "id": "wdynit0X7OOT"
      }
    },
    {
      "cell_type": "code",
      "source": [
        "players = [\"Alice\", \"Bob\", \"Charlie\", \"Dana\"]\n",
        "scores = [50, 75, 40, 90]\n",
        "#approach 1\n",
        "place_index = 0\n",
        "for player in players:\n",
        "  score = scores[place_index]\n",
        "  print(f\"{player} scored {score} points!\")\n",
        "  place_index += 1\n"
      ],
      "metadata": {
        "id": "EJ2i7uIg7hsX",
        "colab": {
          "base_uri": "https://localhost:8080/"
        },
        "outputId": "e38d60a8-d7a2-4e4d-e574-c3e9e9292bca"
      },
      "execution_count": 20,
      "outputs": [
        {
          "output_type": "stream",
          "name": "stdout",
          "text": [
            "Alice scored 50 points!\n",
            "Bob scored 75 points!\n",
            "Charlie scored 40 points!\n",
            "Dana scored 90 points!\n"
          ]
        }
      ]
    },
    {
      "cell_type": "code",
      "source": [
        "#Approach 2 - more efficient\n",
        "for index, player in enumerate(players):\n",
        "  score = scores[index]\n",
        "  print(f\"{player} scored {score} points!\")"
      ],
      "metadata": {
        "colab": {
          "base_uri": "https://localhost:8080/"
        },
        "id": "EDHSuFzujY-4",
        "outputId": "35c4da83-8cd1-44ea-cfe0-0473618c3e0d"
      },
      "execution_count": 21,
      "outputs": [
        {
          "output_type": "stream",
          "name": "stdout",
          "text": [
            "Alice scored 50 points!\n",
            "Bob scored 75 points!\n",
            "Charlie scored 40 points!\n",
            "Dana scored 90 points!\n"
          ]
        }
      ]
    },
    {
      "cell_type": "markdown",
      "source": [
        "### Tracking Expenses\n",
        "\n",
        "Task:\n",
        "You’re tracking daily expenses with the following data:\n",
        "\n",
        "```\n",
        "days = [\"Monday\", \"Tuesday\", \"Wednesday\", \"Thursday\", \"Friday\"]\n",
        "expenses = [12.5, 15.0, 10.0, 20.0, 18.5]\n",
        "```\n",
        "\n",
        "\n",
        "Otherwise, print: `\"Invalid order code.\"`\n",
        "\n",
        "Write a program to print each day’s expenses and calculate the total spent.\n",
        "\n",
        "Format the output like this:\n",
        "\"[Day]: $[amount]\"\n",
        "\n",
        "Finally, print the total amount spent:\n",
        "\"Total expenses: $[total]\"\n",
        "\n",
        "Expected Output:\n",
        "```\n",
        "Monday: $12.5\n",
        "Tuesday: $15.0\n",
        "Wednesday: $10.0\n",
        "Thursday: $20.0\n",
        "Friday: $18.5\n",
        "Total expenses: $76.0\n",
        "```"
      ],
      "metadata": {
        "id": "M2PDMd1p7iqv"
      }
    },
    {
      "cell_type": "code",
      "source": [
        "days = [\"Monday\", \"Tuesday\", \"Wednesday\", \"Thursday\", \"Friday\"]\n",
        "expenses = [12.5, 15.0, 10.0, 20.0, 18.5]\n",
        "total_expenses = 0 #since I want to add expense\n",
        "for index, day in enumerate(days):\n",
        "  expense = expenses[index]\n",
        "  total_expenses += expense # continually adds\n",
        "  print(f\"{day} ${expense}\")\n",
        "print(f\"Total expenses: ${total_expenses}\") #To PRINT THE TOTAL Amount once, it has to be outside the identation else it print per iterate"
      ],
      "metadata": {
        "id": "6kksJrLu8FpS",
        "colab": {
          "base_uri": "https://localhost:8080/"
        },
        "outputId": "814528d0-726c-4fd6-f260-d2ad18ebc944"
      },
      "execution_count": 49,
      "outputs": [
        {
          "output_type": "stream",
          "name": "stdout",
          "text": [
            "Monday $12.5\n",
            "Tuesday $15.0\n",
            "Wednesday $10.0\n",
            "Thursday $20.0\n",
            "Friday $18.5\n",
            "Total expenses: $76.0\n"
          ]
        }
      ]
    },
    {
      "cell_type": "markdown",
      "source": [
        "### Adventure Summary\n",
        "\n",
        "Task:\n",
        "You’re on a treasure hunt! Use the following data:\n",
        "\n",
        "```\n",
        "locations = [\"Cave\", \"Lake\", \"Hill\", \"Forest\"]\n",
        "treasures = [300, 450, 200, 350]\n",
        "```\n",
        "Write a program that announces each location and its treasure value in this format:\n",
        "\n",
        "\"Found [treasure] coins at [location]!\"\n",
        "\n",
        "At the end, print the total treasure collected:\n",
        "\n",
        "\"Total treasure: [total] coins\"\n",
        "\n",
        "Expected Output:\n",
        "```\n",
        "Found 300 coins at Cave!\n",
        "Found 450 coins at Lake!\n",
        "Found 200 coins at Hill!\n",
        "Found 350 coins at Forest!\n",
        "Total treasure: 1300 coins\n",
        "```\n"
      ],
      "metadata": {
        "id": "xVIVUphD8zub"
      }
    },
    {
      "cell_type": "code",
      "source": [
        "locations = [\"Cave\", \"Lake\", \"Hill\", \"Forest\"]\n",
        "treasures = [300, 450, 200, 350]\n",
        "\n",
        "place_index = 0\n",
        "total_treasure = 0\n",
        "for location in locations:\n",
        "  treasure = treasures[place_index]\n",
        "  print(f\"Found {treasure} coins at {location}!\")\n",
        "  place_index += 1\n",
        "  total_treasure += treasure\n",
        "print(f\"Total treasure: {total_treasure}\")"
      ],
      "metadata": {
        "id": "-YHKlM0X-IlT",
        "colab": {
          "base_uri": "https://localhost:8080/"
        },
        "outputId": "b9bd8cf2-39e1-46fc-867b-3c50cc0c4e6d"
      },
      "execution_count": 51,
      "outputs": [
        {
          "output_type": "stream",
          "name": "stdout",
          "text": [
            "Found 300 coins at Cave!\n",
            "Found 450 coins at Lake!\n",
            "Found 200 coins at Hill!\n",
            "Found 350 coins at Forest!\n",
            "Total treasure: 1300\n"
          ]
        }
      ]
    },
    {
      "cell_type": "code",
      "source": [
        "locations = [\"Cave\", \"Lake\", \"Hill\", \"Forest\"]\n",
        "treasures = [300, 450, 200, 350]\n",
        "total_treasure = 0\n",
        "for index, location in enumerate(locations):\n",
        "  treasure = treasures[index]\n",
        "  total_treasure += treasure\n",
        "  print(f\"Found {treasure} coins at {location}!\")\n",
        "\n",
        "print(f\"Total treasure: {total_treasure}\")"
      ],
      "metadata": {
        "colab": {
          "base_uri": "https://localhost:8080/"
        },
        "id": "SCbGTr0anzmR",
        "outputId": "5ad3fec8-4e0d-4121-a51c-943fac1fcfd8"
      },
      "execution_count": 50,
      "outputs": [
        {
          "output_type": "stream",
          "name": "stdout",
          "text": [
            "Found 300 coins at Cave!\n",
            "Found 450 coins at Lake!\n",
            "Found 200 coins at Hill!\n",
            "Found 350 coins at Forest!\n",
            "Total treasure: 1300\n"
          ]
        }
      ]
    },
    {
      "cell_type": "markdown",
      "source": [
        "### Bonus Challenge\n",
        "For the previous exercise, instead of printing a message for every item, write code to only print items with the following condition:\n",
        "\n",
        "Treasures worth more than 300 coins.\n",
        "\n",
        "\n",
        "Expected Output:\n",
        "```\n",
        "Found 450 coins at Lake!\n",
        "Found 350 coins at Forest!\n",
        "Total treasure: 800 coins\n",
        "\n",
        "```\n",
        "\n"
      ],
      "metadata": {
        "id": "5aBIaX7o-fRF"
      }
    },
    {
      "cell_type": "code",
      "source": [
        "locations = [\"Cave\", \"Lake\", \"Hill\", \"Forest\"]\n",
        "treasures = [300, 450, 200, 350]\n",
        "\n",
        "total_treasure = 0\n",
        "for index, location in enumerate(locations):\n",
        "  treasure = treasures[index]\n",
        "  if treasure > 300:\n",
        "    total_treasure += treasure\n",
        "    print(f\"Found {treasure} coins at {location}!\")\n",
        "print(f\"Total treasure: {total_treasure}\")\n",
        "\n",
        "\n"
      ],
      "metadata": {
        "id": "F9GyeDqY9k0t",
        "colab": {
          "base_uri": "https://localhost:8080/"
        },
        "outputId": "2b3d1f76-f19a-47ca-f197-1d3aa4219424"
      },
      "execution_count": 55,
      "outputs": [
        {
          "output_type": "stream",
          "name": "stdout",
          "text": [
            "Found 450 coins at Lake!\n",
            "Found 350 coins at Forest!\n",
            "Total treasure: 800\n"
          ]
        }
      ]
    }
  ]
}